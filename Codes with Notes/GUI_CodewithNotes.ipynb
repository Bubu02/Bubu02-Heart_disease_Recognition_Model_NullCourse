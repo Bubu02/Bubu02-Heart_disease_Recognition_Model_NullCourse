{
 "cells": [
  {
   "cell_type": "markdown",
   "metadata": {},
   "source": [
    "## **Hello and welcome back!**\n",
    "\n",
    "In this video, we’ll walk through the step-by-step process of building a Heart Disease Prediction GUI using Tkinter and integrating it with our trained machine learning model.\n",
    "\n",
    "This GUI will allow users to input patient information, and based on that, the model will predict whether the person may have heart disease.\n",
    "\n",
    "Let's begin by taking a closer look at how we can integrate our trained model and preprocessing scaler directly into a user-friendly interface."
   ]
  },
  {
   "cell_type": "code",
   "execution_count": 1,
   "metadata": {},
   "outputs": [],
   "source": [
    "import tkinter as tk\n",
    "import joblib\n",
    "import numpy as np\n",
    "from tkinter import messagebox\n",
    "from sklearn.preprocessing import MinMaxScaler"
   ]
  },
  {
   "cell_type": "markdown",
   "metadata": {},
   "source": [
    "We start by importing the necessary libraries. We are using:\n",
    "\n",
    "* `tkinter` for building the GUI.\n",
    "* `joblib` to load the saved model and scaler.\n",
    "* `numpy` to handle input arrays.\n",
    "* `messagebox` from `tkinter` to display errors if users input invalid data.\n",
    "* `MinMaxScaler` to preprocess the input data."
   ]
  },
  {
   "cell_type": "markdown",
   "metadata": {},
   "source": [
    "### Step 2: Load the Trained Model and Scaler"
   ]
  },
  {
   "cell_type": "code",
   "execution_count": null,
   "metadata": {},
   "outputs": [],
   "source": [
    "model = joblib.load(\"Saved Model/heart_disease_model (1).joblib\")  # Replace with your actual model file name\n",
    "scaler = joblib.load(\"Saved Scalar/scaler.joblib\")  # Replace with your saved scaler file name\n"
   ]
  },
  {
   "cell_type": "markdown",
   "metadata": {},
   "source": [
    "Here, we load the trained heart disease prediction model and the **MinMaxScaler** using `joblib`. These were saved earlier, and we will use them to preprocess input data and make predictions.\n",
    "\n",
    "Make sure to replace the file paths with the correct location of your saved model and scaler files."
   ]
  },
  {
   "cell_type": "markdown",
   "metadata": {},
   "source": [
    "### Step 3: Create the Prediction Function"
   ]
  },
  {
   "cell_type": "code",
   "execution_count": null,
   "metadata": {},
   "outputs": [],
   "source": [
    "def predict_heart_disease():\n",
    "    try:\n",
    "        # Retrieve input values from the GUI\n",
    "        age = int(entries[0].get())\n",
    "        sex = 1 if sex_var.get() == \"Male\" else 0\n",
    "        cp = int(dropdown_vars[0].get())\n",
    "        trestbps = int(entries[1].get())\n",
    "        chol = int(entries[2].get())\n",
    "        fbs = int(dropdown_vars[1].get())\n",
    "        restecg = int(dropdown_vars[2].get())\n",
    "        thalach = int(entries[3].get())\n",
    "        exang = int(dropdown_vars[3].get())\n",
    "        oldpeak = float(entries[4].get())\n",
    "        slope = int(dropdown_vars[4].get())\n",
    "        ca = int(dropdown_vars[5].get())\n",
    "        thal = int(dropdown_vars[6].get())\n",
    "\n",
    "        # Create a numpy array with the input values\n",
    "        input_data = np.array([[age, sex, cp, trestbps, chol, fbs, restecg, thalach, exang, oldpeak, slope, ca, thal]])\n",
    "\n",
    "        # Normalize the input data using the loaded scaler\n",
    "        input_data_scaled = scaler.transform(input_data)\n",
    "\n",
    "        # Make the prediction using the loaded model\n",
    "        prediction = model.predict(input_data_scaled)\n",
    "\n",
    "        # Display the prediction result\n",
    "        if prediction == 0:\n",
    "            message_label.config(text=\"You don't have heart disease.\", fg=\"black\")\n",
    "        else:\n",
    "            message_label.config(text=\"You may have heart disease.\", fg=\"black\")\n",
    "\n",
    "    except ValueError:\n",
    "        messagebox.showerror(\"Input Error\", \"Please enter valid values.\")\n"
   ]
  },
  {
   "cell_type": "markdown",
   "metadata": {},
   "source": [
    "This function is where the actual prediction happens:\n",
    "\n",
    "* It retrieves user inputs from the GUI.\n",
    "* Converts categorical fields like Sex, Chest Pain Type (cp), and others into numeric values.\n",
    "* Collects the inputs into a NumPy array and scales them using the MinMaxScaler.\n",
    "* Finally, the model predicts if the person has heart disease, and the result is displayed on the GUI.\n",
    "\n",
    "If invalid inputs are provided, the function will throw a ValueError and show an error message."
   ]
  },
  {
   "cell_type": "markdown",
   "metadata": {},
   "source": [
    "This function ensures that the user inputs are scaled before feeding them to the model for prediction, which is crucial for maintaining consistency with our training process."
   ]
  },
  {
   "cell_type": "markdown",
   "metadata": {},
   "source": [
    "### Step 4: Create the Main GUI Window"
   ]
  },
  {
   "cell_type": "code",
   "execution_count": null,
   "metadata": {},
   "outputs": [],
   "source": [
    "root = tk.Tk()\n",
    "root.title(\"Heart Disease Prediction\")\n",
    "root.geometry(\"700x350\")\n",
    "root.resizable(False, False)\n",
    "\n",
    "border_frame = tk.Frame(root, bd=2, relief=\"solid\")\n",
    "border_frame.pack(fill=\"both\", expand=True, padx=10, pady=10)\n",
    "\n",
    "left_frame = tk.Frame(border_frame, width=200)\n",
    "left_frame.grid(row=0, column=0, padx=8, pady=8, sticky=\"ns\")\n",
    "\n",
    "right_frame = tk.Frame(border_frame)\n",
    "right_frame.grid(row=0, column=2, padx=10, pady=10)\n",
    "\n",
    "separator = tk.Frame(border_frame, width=2, bg=\"black\")\n",
    "separator.grid(row=0, column=1, sticky=\"ns\")\n"
   ]
  },
  {
   "cell_type": "markdown",
   "metadata": {},
   "source": [
    "Here, we initialize the main Tkinter window and set its size. We then create a border frame to contain all the widgets and a separator to divide the input fields from the prediction result.\n",
    "\n",
    "* The `right_frame` contains the input fields.\n",
    "* The `left_frame` will display the prediction result."
   ]
  },
  {
   "cell_type": "markdown",
   "metadata": {},
   "source": [
    "### Step 5: Add Input Fields"
   ]
  },
  {
   "cell_type": "code",
   "execution_count": null,
   "metadata": {},
   "outputs": [],
   "source": [
    "labels = [\"Age\", \"Sex\", \"Cp\", \"Trestbps\", \"Chol\", \"Fbs\", \"Restecg\", \"Thalach\", \"Exang\", \"Old peak\", \"Slope\", \"Ca\", \"Thal\"]\n",
    "entries = []\n",
    "dropdown_vars = []\n"
   ]
  },
  {
   "cell_type": "markdown",
   "metadata": {},
   "source": [
    "Here, we define the input fields:\n",
    "\n",
    "* The `labels` list contains all the feature names we need for prediction.\n",
    "* The `entries` list stores the Tkinter `Entry` widgets for text input fields.\n",
    "* The `dropdown_vars` list stores `StringVar` objects for dropdown fields.\n",
    "\n",
    "Next, we define the dropdown options for the categorical features:"
   ]
  },
  {
   "cell_type": "code",
   "execution_count": null,
   "metadata": {},
   "outputs": [],
   "source": [
    "dropdown_options = {\n",
    "    \"Cp\": [\"0\", \"1\", \"2\", \"3\", \"4\"],\n",
    "    \"Fbs\": [\"0\", \"1\"],\n",
    "    \"Restecg\": [\"0\", \"1\", \"2\"],\n",
    "    \"Exang\": [\"0\", \"1\"],\n",
    "    \"Slope\": [\"0\", \"1\", \"2\"],\n",
    "    \"Ca\": [\"0\", \"1\", \"2\", \"3\", \"4\"],\n",
    "    \"Thal\": [\"0\", \"1\", \"2\", \"3\"]\n",
    "}\n"
   ]
  },
  {
   "cell_type": "markdown",
   "metadata": {},
   "source": [
    "This will populate the dropdown menus for features like **Chest Pain Type (cp), Fasting Blood Sugar (fbs)** and others."
   ]
  },
  {
   "cell_type": "markdown",
   "metadata": {},
   "source": [
    "### Step 6: Place Input Fields on the GUI"
   ]
  },
  {
   "cell_type": "code",
   "execution_count": null,
   "metadata": {},
   "outputs": [],
   "source": [
    "for i, label in enumerate(labels):\n",
    "    row = (i // 2) + 1\n",
    "    column = (i % 2) * 3\n",
    "    tk.Label(right_frame, text=label).grid(row=row, column=column, padx=5, pady=5)\n",
    "    \n",
    "    if label == \"Sex\":\n",
    "        sex_var = tk.StringVar(value=\"Select\")\n",
    "        sex_menu = tk.OptionMenu(right_frame, sex_var, \"Male\", \"Female\")\n",
    "        sex_menu.grid(row=row, column=column + 1, padx=5, pady=5)\n",
    "    elif label in dropdown_options:\n",
    "        var = tk.StringVar(value=\"Select\")\n",
    "        menu = tk.OptionMenu(right_frame, var, *dropdown_options[label])\n",
    "        menu.grid(row=row, column=column + 1, padx=5, pady=5)\n",
    "        dropdown_vars.append(var)\n",
    "    else:\n",
    "        entry = tk.Entry(right_frame)\n",
    "        entry.grid(row=row, column=column + 1, padx=5, pady=5)\n",
    "        entries.append(entry)\n"
   ]
  },
  {
   "cell_type": "markdown",
   "metadata": {},
   "source": [
    "This loop dynamically creates labels and input fields for each feature.\n",
    "\n",
    "* Sex is a dropdown with two options: \"Male\" and \"Female\".\n",
    "* Categorical features like Chest Pain Type (cp) and others are dropdowns populated with the values we defined earlier.\n",
    "* Numeric features like age and cholesterol are `Entry` widgets for user input."
   ]
  },
  {
   "cell_type": "markdown",
   "metadata": {},
   "source": [
    "### Step 7: Add the Prediction Result and Submit Button"
   ]
  },
  {
   "cell_type": "code",
   "execution_count": null,
   "metadata": {},
   "outputs": [],
   "source": [
    "# Add the result message label\n",
    "message_label = tk.Label(left_frame, text=\"Prediction will be displayed here.\", fg=\"black\", wraplength=180)\n",
    "message_label.pack(padx=10, pady=10)\n",
    "message_label.place(relx=0.5, rely=0.5, anchor=\"center\")\n",
    "\n",
    "# Add the Submit button\n",
    "submit_button = tk.Button(right_frame, text=\"Submit\", command=predict_heart_disease)\n",
    "submit_button.grid(row=7, column=2, padx=5, pady=5)\n"
   ]
  },
  {
   "cell_type": "markdown",
   "metadata": {},
   "source": [
    "* The mess`age_label will show the prediction result, such as whether the user is likely to have heart disease.\n",
    "* The `Submit` button triggers the `predict_heart_disease` function when clicked."
   ]
  },
  {
   "cell_type": "markdown",
   "metadata": {},
   "source": [
    "### Step 8: Run the Application"
   ]
  },
  {
   "cell_type": "code",
   "execution_count": null,
   "metadata": {},
   "outputs": [],
   "source": [
    "root.mainloop()\n"
   ]
  },
  {
   "cell_type": "markdown",
   "metadata": {},
   "source": [
    "This line keeps the GUI window open and responsive."
   ]
  },
  {
   "cell_type": "markdown",
   "metadata": {},
   "source": [
    "**Summary**\n",
    "\n",
    "We have now successfully built a GUI for Heart Disease Prediction using our trained machine learning model. The GUI accepts various patient data inputs, processes them using the pre-trained model, and provides a prediction result.\n",
    "\n",
    "In our project, the model performed perfectly due to a well-maintained and optimized dataset. However, in real-world scenarios, model performance may vary depending on the quality and diversity of the data.\n"
   ]
  }
 ],
 "metadata": {
  "kernelspec": {
   "display_name": "nullclass",
   "language": "python",
   "name": "python3"
  },
  "language_info": {
   "codemirror_mode": {
    "name": "ipython",
    "version": 3
   },
   "file_extension": ".py",
   "mimetype": "text/x-python",
   "name": "python",
   "nbconvert_exporter": "python",
   "pygments_lexer": "ipython3",
   "version": "3.12.4"
  }
 },
 "nbformat": 4,
 "nbformat_minor": 2
}
